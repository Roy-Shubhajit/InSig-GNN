{
 "cells": [
  {
   "attachments": {},
   "cell_type": "markdown",
   "metadata": {},
   "source": [
    "# Import Libraries"
   ]
  },
  {
   "cell_type": "code",
   "execution_count": 2,
   "metadata": {},
   "outputs": [],
   "source": [
    "import pandas as pd\n",
    "import numpy as np\n",
    "import matplotlib.pyplot as plt\n",
    "import seaborn as sns\n",
    "import os\n",
    "import warnings\n",
    "from torch_geometric.data import Data, InMemoryDataset, download_url, Batch\n",
    "import torch_geometric.transforms as T\n",
    "from dgl.data.utils import Subset, load_graphs\n",
    "from torch_geometric.utils import k_hop_subgraph\n",
    "import torch\n",
    "import torch_geometric\n",
    "import pdb\n",
    "#from torch_geometric.data import Data, DataLoader\n",
    "import torch.nn.functional as F\n",
    "from torch.nn import Linear, Sequential, BatchNorm1d, ReLU, Dropout, ELU, GELU\n",
    "from torch_geometric.nn import GINConv, GINEConv, WLConv, GATv2Conv\n",
    "import torch.optim as optim\n",
    "from torch_geometric.nn import global_mean_pool, global_add_pool, global_max_pool\n",
    "warnings.filterwarnings('ignore')\n",
    "from tqdm import tqdm\n",
    "import torch.utils.data\n",
    "from torch.utils.data.dataloader import default_collate\n",
    "\n",
    "from torch_geometric.data import Data\n",
    "import collections.abc as container_abcs\n",
    "from scipy.special import comb"
   ]
  },
  {
   "attachments": {},
   "cell_type": "markdown",
   "metadata": {},
   "source": [
    "# Dataset Creation"
   ]
  },
  {
   "cell_type": "code",
   "execution_count": 85,
   "metadata": {},
   "outputs": [],
   "source": [
    "class Dataset_1_orig(InMemoryDataset):\n",
    "    def __init__(self, root, transform=None, pre_transform=None):\n",
    "        super(Dataset_1_orig, self).__init__(root, transform, pre_transform)\n",
    "        self.data, self.slices = torch.load(self.processed_paths[0])\n",
    "\n",
    "    @property\n",
    "    def raw_file_names(self):\n",
    "        return []\n",
    "\n",
    "    @property\n",
    "    def processed_file_names(self):\n",
    "        return ['dataset1_orig.pt']\n",
    "\n",
    "    def download(self):\n",
    "        pass\n",
    "\n",
    "    def count_2star(self, data):\n",
    "        egde_index, num_nodes = data.edge_index, data.num_nodes\n",
    "        k = torch.tensor([], dtype=torch.long)\n",
    "        for ind in range(num_nodes):\n",
    "            nodes_, edge_index_, edge_mask_, z_ = k_hop_subgraph(\n",
    "            ind, 1, egde_index, False, num_nodes)\n",
    "            edge_index_ = edge_index_.T\n",
    "            mask = (edge_index_ == ind).all(dim=1)\n",
    "            edge_index_ = edge_index_[mask].T\n",
    "            k = torch.cat((k,torch.tensor([comb(nodes_.shape[0]-1,2, exact=True)])), dim=0)\n",
    "        return torch.sum(k)\n",
    "\n",
    "    def count_chordal(self, data):\n",
    "        edge_index, num_nodes = data.edge_index, data.num_nodes\n",
    "        total_edge_index = torch.tensor([], dtype=torch.long)\n",
    "        l = torch.tensor([], dtype=torch.long)\n",
    "        for ind in range(num_nodes):\n",
    "            nodes_, edge_index_, edge_mask_, z_ = k_hop_subgraph(\n",
    "            ind, 1, edge_index, False, num_nodes)\n",
    "            edge_index_ = edge_index_.T\n",
    "            mask = (edge_index_ != ind).all(dim=1)\n",
    "            edge_index_ = edge_index_[mask].T\n",
    "            total_edge_index = torch.cat((total_edge_index, edge_index_.T), dim=0)\n",
    "            nodes_ = nodes_[nodes_ != ind]\n",
    "            deg = degree(edge_index_[0], num_nodes)\n",
    "            ll = sum([comb(i, 2, exact=True) for i in  deg[deg > 1]])\n",
    "            l = torch.cat((l, torch.tensor([ll])), dim=0)\n",
    "        return torch.sum(l)//2\n",
    "    \n",
    "    def countC4(self, data):\n",
    "        edge_index, num_nodes = data.edge_index, data.num_nodes\n",
    "        l = torch.tensor([], dtype=torch.long)\n",
    "        for ind in range(num_nodes):\n",
    "            node_dict = {}\n",
    "            nodes_, edge_index_, edge_mask_, z_ = k_hop_subgraph(\n",
    "            ind, 2, edge_index, False, num_nodes)\n",
    "            edge_index_ = edge_index_.T\n",
    "            nodes_ = nodes_[nodes_ != ind]\n",
    "            edge_list = edge_index_.tolist()\n",
    "            node_dict = {n.item(): 1 if [ind, n] in edge_list or [n, ind] in edge_list else 0 for n in nodes_}\n",
    "            mask = (edge_index_ != ind).all(dim=1)\n",
    "            edge_index_ = edge_index_[mask].T\n",
    "            ll = 0\n",
    "            edge_list = edge_index_.T.tolist()\n",
    "\n",
    "            for n in node_dict:\n",
    "                nei = sum([1 for m in node_dict if [n, m] in edge_list and [m, n] in edge_list and node_dict[m] == 1])\n",
    "                if nei >= 2:\n",
    "                    ll += comb(nei, 2, exact=True)\n",
    "                    \n",
    "            l = torch.cat((l, torch.tensor([ll])), dim=0)\n",
    "       \n",
    "        \n",
    "        return torch.ceil(torch.sum(l)/4)\n",
    "    \n",
    "    def from_dgl(self, g, star, tri, tail_tri, attr_tri, chord):\n",
    "        import dgl\n",
    "\n",
    "        from torch_geometric.data import Data, HeteroData\n",
    "\n",
    "        if not isinstance(g, dgl.DGLGraph):\n",
    "            raise ValueError(f\"Invalid data type (got '{type(g)}')\")\n",
    "\n",
    "       \n",
    "        data = Data()\n",
    "        data.edge_index = torch.stack(g.edges(), dim=0)\n",
    "\n",
    "        for attr, value in g.ndata.items():\n",
    "            data[attr] = value\n",
    "        for attr, value in g.edata.items():\n",
    "            data[attr] = value\n",
    "\n",
    "        data.C4 = self.countC4(data)\n",
    "        data.star = star.item()\n",
    "        data.triangle = tri.item()\n",
    "        data.tailed_triangle = tail_tri.item()\n",
    "        data.attributed_triangle = attr_tri.item()\n",
    "        data.chordal_cycle = self.count_chordal(data)\n",
    "        data.star_2 = self.count_2star(data)\n",
    "        return data\n",
    "\n",
    "    def process(self):\n",
    "        glist, all_labels = load_graphs(\"/hdfs1/Data/Shubhajit/WL_Substructure_Counting/data/dataset1.bin\")\n",
    "        data_list = []\n",
    "        for i in zip(glist, all_labels[\"star\"], all_labels[\"triangle\"], all_labels[\"tailed_triangle\"], all_labels[\"attributed_triangle\"], all_labels[\"chordal_cycle\"]):\n",
    "            data = self.from_dgl(i[0], i[1], i[2], i[3], i[4], i[5])\n",
    "            data_list.append(data)\n",
    "\n",
    "        if self.pre_transform is not None:\n",
    "            data_list = [self.pre_transform(data) for data in data_list]\n",
    "\n",
    "        data, slices = self.collate(data_list)\n",
    "        torch.save((data, slices), self.processed_paths[0])\n",
    "\n",
    "class Dataset_2_orig(InMemoryDataset):\n",
    "    def __init__(self, root, transform=None, pre_transform=None):\n",
    "        super(Dataset_2_orig, self).__init__(root, transform, pre_transform)\n",
    "        self.data, self.slices = torch.load(self.processed_paths[0])\n",
    "\n",
    "    @property\n",
    "    def raw_file_names(self):\n",
    "        return []\n",
    "\n",
    "    @property\n",
    "    def processed_file_names(self):\n",
    "        return ['dataset2_orig.pt']\n",
    "\n",
    "    def download(self):\n",
    "        pass\n",
    "\n",
    "    def count_triangle(self, data):\n",
    "        edge_index, num_nodes = data.edge_index, data.num_nodes\n",
    "        if num_nodes > 0:\n",
    "            node_name = torch.unique(edge_index[0])\n",
    "        else:\n",
    "            return 0\n",
    "        num_edges = 0\n",
    "        for ind in node_name:\n",
    "            nodes_, edge_index_, edge_mask_, z_ = k_hop_subgraph(\n",
    "            ind.item(), 1, edge_index, False, num_nodes)\n",
    "            edge_attr_ = None\n",
    "            edge_index_ = edge_index_.T\n",
    "            mask = (edge_index_ != ind).all(dim=1)\n",
    "            edge_index_ = edge_index_[mask].T\n",
    "            num_edges += edge_index_.shape[1]\n",
    "        return torch.tensor([num_edges//6]) \n",
    "\n",
    "    def count_K4(self, data):\n",
    "        edge_index, num_nodes = data.edge_index, data.num_nodes\n",
    "        total_edge_index = torch.tensor([], dtype=torch.long)\n",
    "        l = torch.tensor([], dtype=torch.long)\n",
    "        for ind in range(num_nodes):\n",
    "            nodes_, edge_index_, edge_mask_, z_ = k_hop_subgraph(\n",
    "            ind, 2, edge_index, False, num_nodes)\n",
    "            edge_index_ = edge_index_.T\n",
    "            mask = (edge_index_ != ind).all(dim=1)\n",
    "            edge_index_ = edge_index_[mask].T\n",
    "            data_ = Data(edge_index=edge_index_, z=z_)\n",
    "            l = torch.cat((l, self.count_triangle(data_)), dim=0)\n",
    "\n",
    "        return torch.sum(l)//4\n",
    "\n",
    "    def count_2star(self, data):\n",
    "        egde_index, num_nodes = data.edge_index, data.num_nodes\n",
    "        k = torch.tensor([], dtype=torch.long)\n",
    "        for ind in range(num_nodes):\n",
    "            nodes_, edge_index_, edge_mask_, z_ = k_hop_subgraph(\n",
    "            ind, 1, egde_index, False, num_nodes)\n",
    "            edge_index_ = edge_index_.T\n",
    "            mask = (edge_index_ == ind).all(dim=1)\n",
    "            edge_index_ = edge_index_[mask].T\n",
    "            k = torch.cat((k,torch.tensor([comb(nodes_.shape[0]-1,2, exact=True)])), dim=0)\n",
    "        return torch.sum(k)\n",
    "\n",
    "    def count_chordal(self, data):\n",
    "        edge_index, num_nodes = data.edge_index, data.num_nodes\n",
    "        total_edge_index = torch.tensor([], dtype=torch.long)\n",
    "        l = torch.tensor([], dtype=torch.long)\n",
    "        for ind in range(num_nodes):\n",
    "            nodes_, edge_index_, edge_mask_, z_ = k_hop_subgraph(\n",
    "            ind, 1, edge_index, False, num_nodes)\n",
    "            edge_index_ = edge_index_.T\n",
    "            mask = (edge_index_ != ind).all(dim=1)\n",
    "            edge_index_ = edge_index_[mask].T\n",
    "            total_edge_index = torch.cat((total_edge_index, edge_index_.T), dim=0)\n",
    "            nodes_ = nodes_[nodes_ != ind]\n",
    "            deg = degree(edge_index_[0], num_nodes)\n",
    "            ll = sum([comb(i, 2, exact=True) for i in  deg[deg > 1]])\n",
    "            l = torch.cat((l, torch.tensor([ll])), dim=0)\n",
    "        return torch.sum(l)//2\n",
    "\n",
    "    def countC4(self, data):\n",
    "        edge_index, num_nodes = data.edge_index, data.num_nodes\n",
    "        l = torch.tensor([], dtype=torch.long)\n",
    "        for ind in range(num_nodes):\n",
    "            node_dict = {}\n",
    "            nodes_, edge_index_, edge_mask_, z_ = k_hop_subgraph(\n",
    "            ind, 2, edge_index, False, num_nodes)\n",
    "            edge_index_ = edge_index_.T\n",
    "            nodes_ = nodes_[nodes_ != ind]\n",
    "            edge_list = edge_index_.tolist()\n",
    "            node_dict = {n.item(): 1 if [ind, n] in edge_list or [n, ind] in edge_list else 0 for n in nodes_}\n",
    "            mask = (edge_index_ != ind).all(dim=1)\n",
    "            edge_index_ = edge_index_[mask].T\n",
    "            ll = 0\n",
    "            edge_list = edge_index_.T.tolist()\n",
    "\n",
    "            for n in node_dict:\n",
    "                nei = sum([1 for m in node_dict if [n, m] in edge_list and [m, n] in edge_list and node_dict[m] == 1])\n",
    "                if nei >= 2:\n",
    "                    ll += comb(nei, 2, exact=True)\n",
    "                    \n",
    "            l = torch.cat((l, torch.tensor([ll])), dim=0)\n",
    "       \n",
    "        \n",
    "        return torch.ceil(torch.sum(l)/4)\n",
    "\n",
    "    def from_dgl(self, g, star, tri, tail_tri, attr_tri, chord):\n",
    "        import dgl\n",
    "\n",
    "        from torch_geometric.data import Data, HeteroData\n",
    "\n",
    "        if not isinstance(g, dgl.DGLGraph):\n",
    "            raise ValueError(f\"Invalid data type (got '{type(g)}')\")\n",
    "\n",
    "        \n",
    "        data = Data()\n",
    "        data.edge_index = torch.stack(g.edges(), dim=0)\n",
    "\n",
    "        for attr, value in g.ndata.items():\n",
    "            data[attr] = value\n",
    "        for attr, value in g.edata.items():\n",
    "            data[attr] = value\n",
    "\n",
    "        data.C4 = self.countC4(data)\n",
    "        data.star = star.item()\n",
    "        data.triangle = tri.item()\n",
    "        data.tailed_triangle = tail_tri.item()\n",
    "        data.attributed_triangle = attr_tri.item()\n",
    "        data.chordal_cycle = self.count_chordal(data)\n",
    "        data.star_2 = self.count_2star(data)\n",
    "\n",
    "        return data\n",
    "\n",
    "    def process(self):\n",
    "        glist, all_labels = load_graphs(\"/hdfs1/Data/Shubhajit/WL_Substructure_Counting/data/dataset2.bin\")\n",
    "        data_list = []\n",
    "        for i in zip(glist, all_labels[\"star\"], all_labels[\"triangle\"], all_labels[\"tailed_triangle\"], all_labels[\"attributed_triangle\"], all_labels[\"chordal_cycle\"]):\n",
    "            data = self.from_dgl(i[0], i[1], i[2], i[3], i[4], i[5])\n",
    "            data_list.append(data)\n",
    "\n",
    "        if self.pre_transform is not None:\n",
    "            data_list = [self.pre_transform(data) for data in data_list]\n",
    "\n",
    "        data, slices = self.collate(data_list)\n",
    "        torch.save((data, slices), self.processed_paths[0])"
   ]
  },
  {
   "attachments": {},
   "cell_type": "markdown",
   "metadata": {},
   "source": [
    "# Helper"
   ]
  },
  {
   "cell_type": "code",
   "execution_count": 86,
   "metadata": {},
   "outputs": [],
   "source": [
    "class new_collater():\n",
    "    def __init__(self, task):\n",
    "        self.task = task\n",
    "        pass\n",
    "\n",
    "    #for K4 counting\n",
    "    def create_subsubgraphs(self, data):\n",
    "        edge_index, num_nodes = data.edge_index, data.num_nodes\n",
    "        #x = data.x\n",
    "        if num_nodes > 0:\n",
    "            node_name = torch.unique(edge_index[0])\n",
    "            #ones = (x.squeeze() == 1.).sum()\n",
    "        else:\n",
    "            return {}, 0\n",
    "        \n",
    "        num_edges = 0\n",
    "        subgraphs = {}\n",
    "        l = torch.tensor([], dtype=torch.long)\n",
    "        for ind in node_name:\n",
    "            nodes_, edge_index_, edge_mask_, z_ = k_hop_subgraph(\n",
    "            ind.item(), 1, edge_index, False, num_nodes)\n",
    "            edge_attr_ = None\n",
    "            edge_index_ = edge_index_.T\n",
    "            mask = (edge_index_ != ind).all(dim=1)\n",
    "            edge_index_ = edge_index_[mask].T\n",
    "            data_ = Data(edge_index=edge_index_, z=z_)\n",
    "            #l = torch.cat((l,torch.tensor([edge_index_.shape[1]//2])), dim=0)\n",
    "            num_edges += edge_index_.shape[1]\n",
    "            subgraphs[ind.item()] = data_\n",
    "        return subgraphs, torch.tensor([num_edges//6]) \n",
    "\n",
    "    def create_subgraphs(self, data):\n",
    "\n",
    "        edge_index, num_nodes = data.edge_index, data.num_nodes\n",
    "        subsubgraphs = {}\n",
    "        num_edges = 0\n",
    "        subgraphs = {}\n",
    "        total_edge_index = torch.tensor([], dtype=torch.long)\n",
    "        l = torch.tensor([], dtype=torch.long)\n",
    "        k = torch.tensor([], dtype=torch.long)\n",
    "        for ind in range(num_nodes):\n",
    "            nodes_, edge_index_, edge_mask_, z_ = k_hop_subgraph(\n",
    "            ind, 1, edge_index, False, num_nodes)\n",
    "            edge_attr_ = None\n",
    "            edge_index_ = edge_index_.T\n",
    "            edge_list = edge_index_.tolist()\n",
    "            mask = (edge_index_ != ind).all(dim=1)\n",
    "            edge_index_ = edge_index_[mask].T\n",
    "            total_edge_index = torch.cat((total_edge_index, edge_index_.T), dim=0)\n",
    "            s = []\n",
    "            #x = torch.tensor([1 if [i,ind] in edge_list and [ind, i] in edge_list else 2 for i in nodes_])\n",
    "            #data_1 = Data(x=x, edge_index=edge_index_, z=z_)\n",
    "            data_1 = Data(edge_index=edge_index_, z=z_)\n",
    "            s1, l1 = self.create_subsubgraphs(data_1)\n",
    "            s.append(s1)\n",
    "            subsubgraphs[ind] = s\n",
    "            subgraphs[ind] = data_1\n",
    "            print(l1)\n",
    "            l = torch.cat((l,l1), dim=0)\n",
    "            \n",
    "        total_edge_index = torch.unique(total_edge_index, dim=0)\n",
    "\n",
    "        new_data = Data(edge_index=total_edge_index.T)\n",
    "        new_data.ext_label = torch.sum(l)//4\n",
    "\n",
    "        return new_data, subgraphs, l, subsubgraphs\n",
    "\n",
    "    def __call__(self, data):\n",
    "        graphs = []\n",
    "        subgraphs = []\n",
    "        subsubgraphs = []\n",
    "        max_nodes = max([d.num_nodes for d in data])\n",
    "        labels = torch.zeros((len(data), max_nodes), dtype=torch.long)\n",
    "        for g in data:\n",
    "            G_, sub_G, internal_labels, sub_sub_G = self.create_subgraphs(g)\n",
    "            graphs.append(G_)\n",
    "            subgraphs.append(sub_G)\n",
    "            subsubgraphs.append(sub_sub_G)\n",
    "            labels[len(graphs)-1, :g.num_nodes] = internal_labels\n",
    "\n",
    "        return [graphs, subgraphs, labels, max_nodes, subsubgraphs]"
   ]
  },
  {
   "attachments": {},
   "cell_type": "markdown",
   "metadata": {},
   "source": [
    "# Model"
   ]
  },
  {
   "cell_type": "code",
   "execution_count": 87,
   "metadata": {},
   "outputs": [],
   "source": [
    "class localGNN(torch.nn.Module):\n",
    "    def __init__(self, num_layers, hidden):\n",
    "        super(localGNN, self).__init__()\n",
    "        self.hidden = hidden\n",
    "        self.conv1 = GINConv(Sequential(Linear(1, hidden), GELU(), Linear(\n",
    "            hidden, hidden), GELU()), train_eps=False)\n",
    "        self.conv2 = GINConv(Sequential(Linear(hidden, hidden), GELU(), Linear(\n",
    "            hidden, hidden), GELU()), train_eps=False)\n",
    "        self.fc0 = Linear(hidden, hidden)\n",
    "        self.fc1 = Linear(hidden, 1)\n",
    "\n",
    "    def forward(self, data_list, subgraph_dict_list, max_nodes):\n",
    "        out_dims = (len(data_list), max_nodes, self.hidden)\n",
    "        int_emb = torch.zeros(out_dims).to(data_list[0].edge_index.device)\n",
    "        num = 0\n",
    "        new_data_list = []\n",
    "        for graph, sub_graphs in zip(data_list, subgraph_dict_list):\n",
    "            emb = torch.tensor([]).to(data_list[0].edge_index.device)\n",
    "            for key in sub_graphs.keys():\n",
    "                subgraph = sub_graphs[key]\n",
    "                edge_index = subgraph.edge_index\n",
    "                subgraph.x = torch.ones(\n",
    "                    [subgraph.num_nodes, 1]).to(edge_index.device)\n",
    "                x = self.conv1(subgraph.x, edge_index)\n",
    "                x = self.conv2(x, edge_index)\n",
    "                x = self.fc0(x)\n",
    "                x = F.gelu(x)\n",
    "                if len(x)>0:\n",
    "                    batch = torch.zeros(len(x), dtype=torch.long).to(data_list[0].edge_index.device)\n",
    "                    x = global_add_pool(x, batch, size=1)\n",
    "                else:\n",
    "                    x = torch.zeros(1, self.hidden).to(data_list[0].edge_index.device)\n",
    "                emb = torch.cat((emb, x), dim=0)\n",
    "            int_emb[num, :emb.shape[0], :] = emb\n",
    "            num += 1\n",
    "            graph.x = emb  \n",
    "            new_data_list.append(graph) \n",
    "        res = self.fc1(int_emb)\n",
    "        batch = Batch.from_data_list(new_data_list)\n",
    "        res = torch.squeeze(res, dim=-1)\n",
    "        return batch, res\n"
   ]
  },
  {
   "cell_type": "code",
   "execution_count": 89,
   "metadata": {},
   "outputs": [],
   "source": [
    "class globalGNN(torch.nn.Module):\n",
    "    def __init__(self, num_layers, hidden):\n",
    "        super(globalGNN, self).__init__()\n",
    "        self.hidden = hidden\n",
    "        self.conv3 = GINConv(Sequential(Linear(hidden, hidden), GELU(), Linear(\n",
    "            hidden, hidden), GELU()), train_eps=False)\n",
    "        self.conv4 = GINConv(Sequential(Linear(hidden, hidden), GELU(), Linear(\n",
    "            hidden, hidden), GELU()), train_eps=False)\n",
    "        self.fc2 = Linear(hidden, 1)\n",
    "\n",
    "    def forward(self, data):\n",
    "        \n",
    "        \n",
    "        x = self.conv3(data.x, data.edge_index)\n",
    "        x = self.conv4(x, data.edge_index)\n",
    "        #x = F.elu(x)\n",
    "        x = self.fc2(x)\n",
    "        x = global_add_pool(x, data.batch)\n",
    "        return x\n"
   ]
  },
  {
   "attachments": {},
   "cell_type": "markdown",
   "metadata": {},
   "source": [
    "# Data Processing and Split"
   ]
  },
  {
   "cell_type": "code",
   "execution_count": 95,
   "metadata": {},
   "outputs": [],
   "source": [
    "dataset2_orig = Dataset_2_orig(root=\"/hdfs1/Data/Shubhajit/Sub-Structure-GNN/data/Dataset2\", pre_transform=None)\n",
    "train_dataset_G = dataset2_orig[:int(0.8*len(dataset2_orig))]\n",
    "val_dataset_G = dataset2_orig[int(0.8*len(dataset2_orig)):int(0.9*len(dataset2_orig))]\n",
    "test_dataset_G = dataset2_orig[int(0.9*len(dataset2_orig)):]\n",
    "task = \"chordal\"\n",
    "if task == \"triangle\":\n",
    "    variance2_orig = torch.std(dataset2_orig.data.triangle.to(torch.float32))**2\n",
    "elif task == \"3star\":\n",
    "    variance2_orig = torch.std(dataset2_orig.data.star.to(torch.float32))**2\n",
    "elif task == \"C4\":\n",
    "    variance2_orig = torch.std(dataset2_orig.data.C4.to(torch.float32))**2\n",
    "elif task == 'chordal':\n",
    "    variance2_orig = torch.std(dataset2_orig.data.chordal_cycle.to(torch.float32))**2\n",
    "elif task == '2star':\n",
    "    variance2_orig = torch.std(dataset2_orig.data.star_2.to(torch.float32))**2\n",
    "    \n",
    "print(\"Variance: \", variance2_orig)\n",
    "\n",
    "from torch.utils.data import DataLoader\n",
    "\n",
    "collater_fn = new_collater(task)\n",
    "train_loader = DataLoader(train_dataset_G, batch_size=1, shuffle=True, drop_last=True, collate_fn=collater_fn)\n",
    "val_loader = DataLoader(val_dataset_G, batch_size=1, shuffle=False, drop_last=True, collate_fn=collater_fn)\n",
    "test_loader = DataLoader(test_dataset_G, batch_size=1, shuffle=False, drop_last=True, collate_fn=collater_fn)"
   ]
  },
  {
   "attachments": {},
   "cell_type": "markdown",
   "metadata": {},
   "source": [
    "# Create Models"
   ]
  },
  {
   "cell_type": "code",
   "execution_count": 99,
   "metadata": {},
   "outputs": [],
   "source": [
    "device = torch.device('cuda' if torch.cuda.is_available() else 'cpu')\n",
    "Int_GNN = localGNN(1, 512).to(device)\n",
    "Ext_GNN = globalGNN(1, 512).to(device)\n",
    "Int_Opt = torch.optim.Adam(Int_GNN.parameters(), lr=0.001)\n",
    "Ext_Opt = torch.optim.Adam(Ext_GNN.parameters(), lr=0.001)\n",
    "loss_fn1 = torch.nn.L1Loss(reduction='mean')\n",
    "loss_fn2 = torch.nn.L1Loss(reduction='mean')"
   ]
  },
  {
   "cell_type": "code",
   "execution_count": 100,
   "metadata": {},
   "outputs": [
    {
     "name": "stdout",
     "output_type": "stream",
     "text": [
      "Number of parameters in Int_GNN:  1052161\n",
      "Number of parameters in Ext_GNN:  1051137\n"
     ]
    }
   ],
   "source": [
    "#number of parameters\n",
    "def count_parameters(model):\n",
    "    return sum(p.numel() for p in model.parameters() if p.requires_grad)\n",
    "\n",
    "print(\"Number of parameters in Int_GNN: \", count_parameters(Int_GNN))\n",
    "print(\"Number of parameters in Ext_GNN: \", count_parameters(Ext_GNN))"
   ]
  },
  {
   "cell_type": "code",
   "execution_count": 101,
   "metadata": {},
   "outputs": [
    {
     "name": "stdout",
     "output_type": "stream",
     "text": [
      "Memory taken by Int_GNN:  4.208644 MB\n",
      "Memory taken by Ext_GNN:  4.204548 MB\n"
     ]
    }
   ],
   "source": [
    "#memory taken by the model in MB\n",
    "def memory(model):\n",
    "    return sum(p.numel() for p in model.parameters() if p.requires_grad)*4/1000000\n",
    "\n",
    "print(\"Memory taken by Int_GNN: \", memory(Int_GNN), \"MB\")\n",
    "print(\"Memory taken by Ext_GNN: \", memory(Ext_GNN), \"MB\")"
   ]
  },
  {
   "cell_type": "code",
   "execution_count": 102,
   "metadata": {},
   "outputs": [],
   "source": [
    "def train(int_model, ext_model, loader, int_opt, ext_opt):\n",
    "    step = 0\n",
    "    total_loss_int = 0\n",
    "    total_loss_ext = 0\n",
    "    for batch in tqdm(loader):\n",
    "        graphs = batch[0]\n",
    "        subgraphs = batch[1]\n",
    "        internal_labels = batch[2].to(device)\n",
    "        max_nodes = batch[3]\n",
    "        \n",
    "        for g in range(len(graphs)):\n",
    "            graphs[g] = graphs[g].to(device)\n",
    "            for key in subgraphs[g].keys():\n",
    "                subgraphs[g][key] = subgraphs[g][key].to(device)\n",
    "\n",
    "        int_model.train()\n",
    "        int_opt.zero_grad()\n",
    "        batch_graph, int_out = int_model(graphs, subgraphs, max_nodes)\n",
    "        loss1 = loss_fn1(int_out, internal_labels)\n",
    "        loss1.backward()\n",
    "        int_opt.step()\n",
    "        #ext_model = param_transfer(int_model, ext_model)\n",
    "        int_model.eval()\n",
    "        batch_graph, int_out = int_model(graphs, subgraphs, max_nodes)\n",
    "        ext_model.train()\n",
    "        ext_opt.zero_grad()\n",
    "        ext_emb = ext_model(batch_graph)\n",
    "        loss2 = loss_fn2(ext_emb, batch_graph.ext_label)\n",
    "        loss2.backward()\n",
    "        ext_opt.step()\n",
    "        total_loss_int += loss1.item()\n",
    "        total_loss_ext += loss2.item()\n",
    "        step += 1\n",
    "        if step % 500 == 0:\n",
    "            print(\"Step: {}, Int Loss: {}, Ext Loss: {}\".format(\n",
    "                step, total_loss_int/step, total_loss_ext/step))\n",
    "        #int_model = param_transfer(ext_model, int_model)\n",
    "    return total_loss_ext / step\n",
    "\n",
    "def eval(int_model, ext_model, loader):\n",
    "    int_model.eval()\n",
    "    ext_model.eval()\n",
    "    step = 0\n",
    "    total_loss = 0\n",
    "    for batch in tqdm(loader):\n",
    "        graphs = batch[0]\n",
    "        subgraphs = batch[1]\n",
    "        internal_labels = batch[2].to(device)\n",
    "        max_nodes = batch[3]\n",
    "        \n",
    "        for g in range(len(graphs)):\n",
    "            graphs[g] = graphs[g].to(device)\n",
    "            for key in subgraphs[g].keys():\n",
    "                subgraphs[g][key] = subgraphs[g][key].to(device)\n",
    "        batch_graph, int_out = int_model(graphs, subgraphs, max_nodes)\n",
    "        ext_emb = ext_model(batch_graph)\n",
    "        loss = loss_fn2(ext_emb, batch_graph.ext_label)\n",
    "        total_loss += loss.item()\n",
    "        step += 1\n",
    "    return total_loss / step"
   ]
  },
  {
   "attachments": {},
   "cell_type": "markdown",
   "metadata": {},
   "source": [
    "# Run Model"
   ]
  },
  {
   "cell_type": "code",
   "execution_count": 103,
   "metadata": {},
   "outputs": [
    {
     "name": "stdout",
     "output_type": "stream",
     "text": [
      "=====Epoch 1\n",
      "Training...\n"
     ]
    },
    {
     "name": "stderr",
     "output_type": "stream",
     "text": [
      " 13%|█▎        | 502/4000 [00:38<04:37, 12.59it/s]"
     ]
    },
    {
     "name": "stdout",
     "output_type": "stream",
     "text": [
      "Step: 500, Int Loss: 5.034586036205292, Ext Loss: 42.27191285705566\n"
     ]
    },
    {
     "name": "stderr",
     "output_type": "stream",
     "text": [
      " 25%|██▌       | 1002/4000 [01:17<04:37, 10.79it/s]"
     ]
    },
    {
     "name": "stdout",
     "output_type": "stream",
     "text": [
      "Step: 1000, Int Loss: 4.915372324705124, Ext Loss: 38.03900317001343\n"
     ]
    },
    {
     "name": "stderr",
     "output_type": "stream",
     "text": [
      " 38%|███▊      | 1502/4000 [01:57<03:10, 13.12it/s]"
     ]
    },
    {
     "name": "stdout",
     "output_type": "stream",
     "text": [
      "Step: 1500, Int Loss: 4.788568095207214, Ext Loss: 33.24460156504313\n"
     ]
    },
    {
     "name": "stderr",
     "output_type": "stream",
     "text": [
      " 50%|█████     | 2002/4000 [02:36<02:38, 12.62it/s]"
     ]
    },
    {
     "name": "stdout",
     "output_type": "stream",
     "text": [
      "Step: 2000, Int Loss: 4.744693721473217, Ext Loss: 31.69023730278015\n"
     ]
    },
    {
     "name": "stderr",
     "output_type": "stream",
     "text": [
      " 63%|██████▎   | 2502/4000 [03:15<01:47, 13.89it/s]"
     ]
    },
    {
     "name": "stdout",
     "output_type": "stream",
     "text": [
      "Step: 2500, Int Loss: 4.689019625139236, Ext Loss: 29.98272534637451\n"
     ]
    },
    {
     "name": "stderr",
     "output_type": "stream",
     "text": [
      " 75%|███████▌  | 3002/4000 [03:54<01:12, 13.84it/s]"
     ]
    },
    {
     "name": "stdout",
     "output_type": "stream",
     "text": [
      "Step: 3000, Int Loss: 4.66690969200929, Ext Loss: 28.490532993316652\n"
     ]
    },
    {
     "name": "stderr",
     "output_type": "stream",
     "text": [
      " 88%|████████▊ | 3502/4000 [04:32<00:39, 12.45it/s]"
     ]
    },
    {
     "name": "stdout",
     "output_type": "stream",
     "text": [
      "Step: 3500, Int Loss: 4.646706180674689, Ext Loss: 27.31186481693813\n"
     ]
    },
    {
     "name": "stderr",
     "output_type": "stream",
     "text": [
      "100%|██████████| 4000/4000 [05:10<00:00, 12.86it/s]\n"
     ]
    },
    {
     "name": "stdout",
     "output_type": "stream",
     "text": [
      "Step: 4000, Int Loss: 4.62114170652628, Ext Loss: 27.310226669311522\n",
      "Train loss : 0.08640027791261673\n",
      "Evaluating...\n"
     ]
    },
    {
     "name": "stderr",
     "output_type": "stream",
     "text": [
      "100%|██████████| 500/500 [00:12<00:00, 41.56it/s]\n"
     ]
    },
    {
     "name": "stdout",
     "output_type": "stream",
     "text": [
      "Valid loss : 0.08499457687139511\n"
     ]
    },
    {
     "name": "stderr",
     "output_type": "stream",
     "text": [
      "100%|██████████| 500/500 [00:10<00:00, 48.05it/s]\n"
     ]
    },
    {
     "name": "stdout",
     "output_type": "stream",
     "text": [
      "Test loss : 0.08802930265665054\n",
      "Best Model!\n",
      "Best valid loss : 0.08499457687139511\n",
      "Best test loss : 0.08802930265665054\n",
      "=====Epoch 2\n",
      "Training...\n"
     ]
    },
    {
     "name": "stderr",
     "output_type": "stream",
     "text": [
      " 13%|█▎        | 502/4000 [00:39<04:08, 14.05it/s]"
     ]
    },
    {
     "name": "stdout",
     "output_type": "stream",
     "text": [
      "Step: 500, Int Loss: 4.463464473247528, Ext Loss: 23.973553581237795\n"
     ]
    },
    {
     "name": "stderr",
     "output_type": "stream",
     "text": [
      " 25%|██▌       | 1001/4000 [01:17<03:59, 12.53it/s]"
     ]
    },
    {
     "name": "stdout",
     "output_type": "stream",
     "text": [
      "Step: 1000, Int Loss: 4.455619666457176, Ext Loss: 22.262183292388915\n"
     ]
    },
    {
     "name": "stderr",
     "output_type": "stream",
     "text": [
      " 38%|███▊      | 1501/4000 [01:59<03:06, 13.38it/s]"
     ]
    },
    {
     "name": "stdout",
     "output_type": "stream",
     "text": [
      "Step: 1500, Int Loss: 4.413344955682755, Ext Loss: 20.87024910736084\n"
     ]
    },
    {
     "name": "stderr",
     "output_type": "stream",
     "text": [
      " 50%|█████     | 2001/4000 [02:37<02:22, 13.99it/s]"
     ]
    },
    {
     "name": "stdout",
     "output_type": "stream",
     "text": [
      "Step: 2000, Int Loss: 4.418791454553604, Ext Loss: 23.36675898551941\n"
     ]
    },
    {
     "name": "stderr",
     "output_type": "stream",
     "text": [
      " 63%|██████▎   | 2501/4000 [03:15<01:50, 13.58it/s]"
     ]
    },
    {
     "name": "stdout",
     "output_type": "stream",
     "text": [
      "Step: 2500, Int Loss: 4.411081143712997, Ext Loss: 22.765834593200683\n"
     ]
    },
    {
     "name": "stderr",
     "output_type": "stream",
     "text": [
      " 75%|███████▌  | 3001/4000 [03:53<01:14, 13.50it/s]"
     ]
    },
    {
     "name": "stdout",
     "output_type": "stream",
     "text": [
      "Step: 3000, Int Loss: 4.405248848040898, Ext Loss: 22.211167481740315\n"
     ]
    },
    {
     "name": "stderr",
     "output_type": "stream",
     "text": [
      " 88%|████████▊ | 3501/4000 [04:34<00:41, 11.93it/s]"
     ]
    },
    {
     "name": "stdout",
     "output_type": "stream",
     "text": [
      "Step: 3500, Int Loss: 4.391445282697678, Ext Loss: 21.71715282876151\n"
     ]
    },
    {
     "name": "stderr",
     "output_type": "stream",
     "text": [
      "100%|██████████| 4000/4000 [05:13<00:00, 12.76it/s]\n"
     ]
    },
    {
     "name": "stdout",
     "output_type": "stream",
     "text": [
      "Step: 4000, Int Loss: 4.382611571520567, Ext Loss: 21.1949343252182\n",
      "Train loss : 0.06705357134342194\n",
      "Evaluating...\n"
     ]
    },
    {
     "name": "stderr",
     "output_type": "stream",
     "text": [
      "100%|██████████| 500/500 [00:11<00:00, 44.85it/s]\n"
     ]
    },
    {
     "name": "stdout",
     "output_type": "stream",
     "text": [
      "Valid loss : 0.04554934799671173\n"
     ]
    },
    {
     "name": "stderr",
     "output_type": "stream",
     "text": [
      "100%|██████████| 500/500 [00:11<00:00, 41.86it/s]\n"
     ]
    },
    {
     "name": "stdout",
     "output_type": "stream",
     "text": [
      "Test loss : 0.04661869630217552\n",
      "Best Model!\n",
      "Best valid loss : 0.04554934799671173\n",
      "Best test loss : 0.04661869630217552\n",
      "=====Epoch 3\n",
      "Training...\n"
     ]
    },
    {
     "name": "stderr",
     "output_type": "stream",
     "text": [
      " 13%|█▎        | 502/4000 [00:39<04:35, 12.68it/s]"
     ]
    },
    {
     "name": "stdout",
     "output_type": "stream",
     "text": [
      "Step: 500, Int Loss: 4.328822411298752, Ext Loss: 15.906507431030274\n"
     ]
    },
    {
     "name": "stderr",
     "output_type": "stream",
     "text": [
      " 25%|██▌       | 1002/4000 [01:17<03:57, 12.64it/s]"
     ]
    },
    {
     "name": "stdout",
     "output_type": "stream",
     "text": [
      "Step: 1000, Int Loss: 4.303832306265831, Ext Loss: 15.980106842041016\n"
     ]
    },
    {
     "name": "stderr",
     "output_type": "stream",
     "text": [
      " 38%|███▊      | 1502/4000 [01:56<03:36, 11.56it/s]"
     ]
    },
    {
     "name": "stdout",
     "output_type": "stream",
     "text": [
      "Step: 1500, Int Loss: 4.2945166252454126, Ext Loss: 15.976174112955729\n"
     ]
    },
    {
     "name": "stderr",
     "output_type": "stream",
     "text": [
      " 50%|█████     | 2002/4000 [02:34<02:28, 13.43it/s]"
     ]
    },
    {
     "name": "stdout",
     "output_type": "stream",
     "text": [
      "Step: 2000, Int Loss: 4.306012226879597, Ext Loss: 16.17426031112671\n"
     ]
    },
    {
     "name": "stderr",
     "output_type": "stream",
     "text": [
      " 63%|██████▎   | 2502/4000 [03:13<01:50, 13.50it/s]"
     ]
    },
    {
     "name": "stdout",
     "output_type": "stream",
     "text": [
      "Step: 2500, Int Loss: 4.303010956954956, Ext Loss: 16.472702288818358\n"
     ]
    },
    {
     "name": "stderr",
     "output_type": "stream",
     "text": [
      " 71%|███████   | 2822/4000 [03:38<01:37, 12.10it/s]"
     ]
    }
   ],
   "source": [
    "train_curve = []\n",
    "valid_curve = []\n",
    "test_curve = []\n",
    "best_val_loss = 1000\n",
    "best_test_loss = 1000\n",
    "for epoch in range(1, 101):\n",
    "    print(\"=====Epoch {}\".format(epoch))\n",
    "    print('Training...')\n",
    "    train_loss = train(Int_GNN, Ext_GNN, train_loader, Int_Opt, Ext_Opt)\n",
    "    print('Train loss : {}'.format(train_loss/variance2_orig))\n",
    "\n",
    "    print('Evaluating...')\n",
    "    valid_loss = eval(Int_GNN, Ext_GNN, val_loader)\n",
    "    print('Valid loss : {}'.format(valid_loss/variance2_orig))\n",
    "    test_loss = eval(Int_GNN, Ext_GNN, test_loader)\n",
    "    print('Test loss : {}'.format(test_loss/variance2_orig))\n",
    "    if valid_loss < best_val_loss:\n",
    "        best_val_loss = valid_loss\n",
    "        best_test_loss = test_loss\n",
    "        print(\"Best Model!\")\n",
    "        print(\"Best valid loss : {}\".format(best_val_loss/variance2_orig))\n",
    "        print(\"Best test loss : {}\".format(best_test_loss/variance2_orig))\n",
    "    train_curve.append(train_loss/variance2_orig)\n",
    "    valid_curve.append(valid_loss/variance2_orig)\n",
    "    test_curve.append(test_loss/variance2_orig)"
   ]
  },
  {
   "cell_type": "code",
   "execution_count": 76,
   "metadata": {},
   "outputs": [
    {
     "name": "stdout",
     "output_type": "stream",
     "text": [
      "Best valid loss : 0.0030952796805649996\n",
      "Best test loss : 0.0033464173320680857\n"
     ]
    }
   ],
   "source": [
    "print(\"Best valid loss : {}\".format(best_val_loss/variance2_orig))\n",
    "print(\"Best test loss : {}\".format(best_test_loss/variance2_orig))"
   ]
  },
  {
   "attachments": {},
   "cell_type": "markdown",
   "metadata": {},
   "source": [
    "# Plots"
   ]
  },
  {
   "cell_type": "code",
   "execution_count": 79,
   "metadata": {},
   "outputs": [
    {
     "data": {
      "image/png": "[encoded data removed]",
      "text/plain": [
       "<Figure size 640x480 with 1 Axes>"
      ]
     },
     "metadata": {},
     "output_type": "display_data"
    }
   ],
   "source": [
    "plt.plot(train_curve, label='Train')\n",
    "plt.plot(valid_curve, label='Validation')   \n",
    "plt.plot(test_curve, label='Test')\n",
    "plt.legend()\n",
    "plt.title('Loss curve for Local-Global GIN - Triangle')\n",
    "plt.xlabel('Epochs')\n",
    "plt.ylabel('Loss')\n",
    "plt.show()"
   ]
  },
  {
   "cell_type": "code",
   "execution_count": null,
   "metadata": {},
   "outputs": [],
   "source": [
    "plt.plot(train_curve, label='Train')\n",
    "plt.plot(valid_curve, label='Validation')   \n",
    "plt.plot(test_curve, label='Test')\n",
    "plt.legend()\n",
    "plt.title('Loss curve for Local-Global GIN - Star')\n",
    "plt.xlabel('Epochs')\n",
    "plt.ylabel('Loss')\n",
    "plt.show()"
   ]
  },
  {
   "attachments": {},
   "cell_type": "markdown",
   "metadata": {},
   "source": [
    "# Others"
   ]
  },
  {
   "cell_type": "code",
   "execution_count": 81,
   "metadata": {},
   "outputs": [],
   "source": [
    "def countC4(data):\n",
    "        edge_index, num_nodes = data.edge_index, data.num_nodes\n",
    "        l = torch.tensor([], dtype=torch.long)\n",
    "        for ind in range(num_nodes):\n",
    "            node_dict = {}\n",
    "            nodes_, edge_index_, edge_mask_, z_ = k_hop_subgraph(\n",
    "            ind, 2, edge_index, False, num_nodes)\n",
    "            edge_index_ = edge_index_.T\n",
    "            nodes_ = nodes_[nodes_ != ind]\n",
    "            edge_list = edge_index_.tolist()\n",
    "            node_dict = {n.item(): 1 if [ind, n] in edge_list or [n, ind] in edge_list else 2 for n in nodes_}\n",
    "            mask = (edge_index_ != ind).all(dim=1)\n",
    "            edge_index_ = edge_index_[mask].T\n",
    "            ll = 0\n",
    "            edge_list = edge_index_.T.tolist()\n",
    "            print(edge_list)\n",
    "            for n in node_dict:\n",
    "                nei = sum([1 for m in node_dict if [n, m] in edge_list and [m, n] in edge_list and node_dict[m] == 1])\n",
    "\n",
    "                if nei >= 2:\n",
    "                    print(n, nei, comb(nei, 2, exact=True))\n",
    "                    ll += comb(nei, 2, exact=True)\n",
    "            l = torch.cat((l, torch.tensor([ll])), dim=0)\n",
    "       \n",
    "        \n",
    "        return torch.ceil(torch.sum(l)/4)\n",
    "\n",
    "def count_tailtriangle(data):\n",
    "    edge_index, num_nodes = data.edge_index, data.num_nodes\n",
    "    l = torch.tensor([], dtype=torch.long)\n",
    "    for ind in range(num_nodes):\n",
    "        node_dict = {}\n",
    "        nodes_, edge_index_, edge_mask_, z_ = k_hop_subgraph(\n",
    "            ind, 2, edge_index, False, num_nodes)\n",
    "        edge_index_ = edge_index_.T\n",
    "        nodes_ = nodes_[nodes_ != ind]\n",
    "        edge_list = edge_index_.tolist()\n",
    "        node_dict = {n.item(): 1 if [ind, n] in edge_list or [n, ind] in edge_list else 2 for n in nodes_}\n",
    "        mask = (edge_index_ != ind).all(dim=1)\n",
    "        edge_index_ = edge_index_[mask].T\n",
    "        edges = 0\n",
    "        nei = []\n",
    "        edge_list = edge_index_.T.tolist()\n",
    "        for n in node_dict:\n",
    "            for m in node_dict:\n",
    "                 if [n, m] in edge_list and node_dict[n] == 1 and node_dict[m] == 2:\n",
    "                    nei.append(m)\n",
    "            for k in nei:\n",
    "                edges = edges + sum([1 for m in nei if [k, m] in edge_list and [m, k] in edge_list])\n",
    "        l = torch.cat((l, torch.tensor([edges])), dim=0)\n",
    "\n",
    "    return torch.sum(l)\n",
    "\n",
    "def count_chordal(data):\n",
    "    edge_index, num_nodes = data.edge_index, data.num_nodes\n",
    "    total_edge_index = torch.tensor([], dtype=torch.long)\n",
    "    l = torch.tensor([], dtype=torch.long)\n",
    "    for ind in range(num_nodes):\n",
    "        nodes_, edge_index_, edge_mask_, z_ = k_hop_subgraph(\n",
    "        ind, 1, edge_index, False, num_nodes)\n",
    "        edge_index_ = edge_index_.T\n",
    "        mask = (edge_index_ != ind).all(dim=1)\n",
    "        edge_index_ = edge_index_[mask].T\n",
    "        total_edge_index = torch.cat((total_edge_index, edge_index_.T), dim=0)\n",
    "        nodes_ = nodes_[nodes_ != ind]\n",
    "        deg = degree(edge_index_[0], num_nodes)\n",
    "        ll = sum([comb(i, 2, exact=True) for i in  deg[deg > 1]])\n",
    "        l = torch.cat((l, torch.tensor([ll])), dim=0)\n",
    "    return torch.sum(l)//2\n",
    "\n",
    "def count_2star(data):\n",
    "    egde_index, num_nodes = data.edge_index, data.num_nodes\n",
    "    k = torch.tensor([], dtype=torch.long)\n",
    "    for ind in range(num_nodes):\n",
    "        nodes_, edge_index_, edge_mask_, z_ = k_hop_subgraph(\n",
    "        ind, 1, egde_index, False, num_nodes)\n",
    "        edge_index_ = edge_index_.T\n",
    "        mask = (edge_index_ == ind).all(dim=1)\n",
    "        edge_index_ = edge_index_[mask].T\n",
    "        k = torch.cat((k,torch.tensor([comb(nodes_.shape[0]-1,2, exact=True)])), dim=0)\n",
    "    return torch.sum(k)\n",
    "                \n",
    "                \n"
   ]
  },
  {
   "cell_type": "code",
   "execution_count": 4,
   "metadata": {},
   "outputs": [],
   "source": [
    "\n",
    "edge_index = torch.tensor([[1,0], [0,1], [2,0], [0,2], [3,0], [0,3], [4,0], [0,4], [1,2], [2,1], [2,3], [3,2], [3,4], [4,3], [4,2], [2, 4]])   "
   ]
  },
  {
   "cell_type": "code",
   "execution_count": 47,
   "metadata": {},
   "outputs": [],
   "source": [
    "edge_index = torch.tensor([[1, 1, 1, 1, 3, 3, 3, 4, 4, 4, 5, 5, 5, 5, 5, 6, 6, 7, 7, 7],\n",
    "        [3, 4, 5, 7, 1, 5, 7, 1, 5, 6, 1, 3, 4, 6, 7, 4, 5, 1, 3, 5]])\n",
    "G = Data(edge_index=edge_index)"
   ]
  },
  {
   "cell_type": "code",
   "execution_count": 117,
   "metadata": {},
   "outputs": [],
   "source": [
    "edge_index = torch.tensor([[0,0,0,1,1,1,2,2,2,3,3,3],[1,2,3,0,2,3,0,1,3,0,1,2]])\n",
    "G = Data(edge_index=edge_index)"
   ]
  },
  {
   "cell_type": "code",
   "execution_count": 84,
   "metadata": {},
   "outputs": [],
   "source": [
    "edge_index = torch.tensor([[0,0,1,2],[1,2,0,0]])\n",
    "G = Data(edge_index=edge_index)"
   ]
  },
  {
   "cell_type": "code",
   "execution_count": 118,
   "metadata": {},
   "outputs": [],
   "source": [
    "#convert to networkx graph\n",
    "from torch_geometric.utils.convert import to_networkx\n",
    "M = to_networkx(G)\n"
   ]
  },
  {
   "cell_type": "code",
   "execution_count": 119,
   "metadata": {},
   "outputs": [
    {
     "data": {
      "image/png": "[encoded data removed]",
      "text/plain": [
       "<Figure size 640x480 with 1 Axes>"
      ]
     },
     "metadata": {},
     "output_type": "display_data"
    }
   ],
   "source": [
    "#plot the graph\n",
    "import networkx as nx\n",
    "nx.draw(M, with_labels=True)"
   ]
  },
  {
   "cell_type": "code",
   "execution_count": 92,
   "metadata": {},
   "outputs": [],
   "source": [
    "K = count_2star(G)"
   ]
  },
  {
   "cell_type": "code",
   "execution_count": 93,
   "metadata": {},
   "outputs": [
    {
     "data": {
      "text/plain": [
       "tensor(12)"
      ]
     },
     "execution_count": 93,
     "metadata": {},
     "output_type": "execute_result"
    }
   ],
   "source": [
    "K"
   ]
  },
  {
   "cell_type": "code",
   "execution_count": 261,
   "metadata": {},
   "outputs": [],
   "source": [
    "#for K4 counting\n",
    "def create_subsubgraphs(data):\n",
    "    edge_index, num_nodes = data.edge_index, data.num_nodes\n",
    "    #x = data.x\n",
    "    if num_nodes > 0:\n",
    "        node_name = torch.unique(edge_index[0])\n",
    "        #ones = (x.squeeze() == 1.).sum()\n",
    "    else:\n",
    "        return {}, 0\n",
    "    \n",
    "    num_edges = 0\n",
    "    subgraphs = {}\n",
    "    l = torch.tensor([], dtype=torch.long)\n",
    "    for ind in node_name:\n",
    "        nodes_, edge_index_, edge_mask_, z_ = k_hop_subgraph(\n",
    "        ind.item(), 1, edge_index, False, num_nodes)\n",
    "        edge_attr_ = None\n",
    "        edge_index_ = edge_index_.T\n",
    "        mask = (edge_index_ != ind).all(dim=1)\n",
    "        edge_index_ = edge_index_[mask].T\n",
    "        data_ = Data(edge_index=edge_index_, z=z_)\n",
    "        #l = torch.cat((l,torch.tensor([edge_index_.shape[1]//2])), dim=0)\n",
    "        num_edges += edge_index_.shape[1]\n",
    "        subgraphs[ind.item()] = data_\n",
    "    return subgraphs, torch.tensor([num_edges//6]) \n",
    "\n",
    "def create_subgraphs(data):\n",
    "\n",
    "    edge_index, num_nodes = data.edge_index, data.num_nodes\n",
    "    subsubgraphs = {}\n",
    "    num_edges = 0\n",
    "    subgraphs = {}\n",
    "    total_edge_index = torch.tensor([], dtype=torch.long)\n",
    "    l = torch.tensor([], dtype=torch.long)\n",
    "    k = torch.tensor([], dtype=torch.long)\n",
    "    for ind in range(num_nodes):\n",
    "        nodes_, edge_index_, edge_mask_, z_ = k_hop_subgraph(\n",
    "        ind, 1, edge_index, False, num_nodes)\n",
    "        edge_attr_ = None\n",
    "        edge_index_ = edge_index_.T\n",
    "        edge_list = edge_index_.tolist()\n",
    "        mask = (edge_index_ != ind).all(dim=1)\n",
    "        edge_index_ = edge_index_[mask].T\n",
    "        total_edge_index = torch.cat((total_edge_index, edge_index_.T), dim=0)\n",
    "        s = []\n",
    "        #x = torch.tensor([1 if [i,ind] in edge_list and [ind, i] in edge_list else 2 for i in nodes_])\n",
    "        #data_1 = Data(x=x, edge_index=edge_index_, z=z_)\n",
    "        data_1 = Data(edge_index=edge_index_, z=z_)\n",
    "        s1, l1 = create_subsubgraphs(data_1)\n",
    "        s.append(s1)\n",
    "        subsubgraphs[ind] = s\n",
    "        subgraphs[ind] = data_1\n",
    "        print(l1)\n",
    "        l = torch.cat((l,l1), dim=0)\n",
    "        \n",
    "    total_edge_index = torch.unique(total_edge_index, dim=0)\n",
    "\n",
    "    new_data = Data(edge_index=total_edge_index.T)\n",
    "    new_data.ext_label = torch.sum(l)//4\n",
    "\n",
    "    return new_data, subgraphs, l, subsubgraphs"
   ]
  },
  {
   "cell_type": "code",
   "execution_count": 262,
   "metadata": {},
   "outputs": [
    {
     "name": "stdout",
     "output_type": "stream",
     "text": [
      "tensor([1])\n",
      "tensor([1])\n",
      "tensor([1])\n",
      "tensor([1])\n"
     ]
    }
   ],
   "source": [
    "U_G, sub_G, labels, sub_sub_G = create_subgraphs(G)"
   ]
  },
  {
   "cell_type": "code",
   "execution_count": 263,
   "metadata": {},
   "outputs": [
    {
     "data": {
      "text/plain": [
       "{0: Data(edge_index=[2, 6], z=[12]),\n",
       " 1: Data(edge_index=[2, 6], z=[12]),\n",
       " 2: Data(edge_index=[2, 6], z=[12]),\n",
       " 3: Data(edge_index=[2, 6], z=[12])}"
      ]
     },
     "execution_count": 263,
     "metadata": {},
     "output_type": "execute_result"
    }
   ],
   "source": [
    "sub_G"
   ]
  },
  {
   "cell_type": "code",
   "execution_count": 264,
   "metadata": {},
   "outputs": [
    {
     "data": {
      "text/plain": [
       "{0: [{1: Data(edge_index=[2, 2], z=[6]),\n",
       "   2: Data(edge_index=[2, 2], z=[6]),\n",
       "   3: Data(edge_index=[2, 2], z=[6])}],\n",
       " 1: [{0: Data(edge_index=[2, 2], z=[6]),\n",
       "   2: Data(edge_index=[2, 2], z=[6]),\n",
       "   3: Data(edge_index=[2, 2], z=[6])}],\n",
       " 2: [{0: Data(edge_index=[2, 2], z=[6]),\n",
       "   1: Data(edge_index=[2, 2], z=[6]),\n",
       "   3: Data(edge_index=[2, 2], z=[6])}],\n",
       " 3: [{0: Data(edge_index=[2, 2], z=[6]),\n",
       "   1: Data(edge_index=[2, 2], z=[6]),\n",
       "   2: Data(edge_index=[2, 2], z=[6])}]}"
      ]
     },
     "execution_count": 264,
     "metadata": {},
     "output_type": "execute_result"
    }
   ],
   "source": [
    "sub_sub_G"
   ]
  },
  {
   "cell_type": "code",
   "execution_count": 265,
   "metadata": {},
   "outputs": [
    {
     "data": {
      "text/plain": [
       "(tensor([1, 1, 1, 1]), tensor(1))"
      ]
     },
     "execution_count": 265,
     "metadata": {},
     "output_type": "execute_result"
    }
   ],
   "source": [
    "labels, U_G.ext_label"
   ]
  }
 ],
 "metadata": {
  "kernelspec": {
   "display_name": "torch_pip",
   "language": "python",
   "name": "python3"
  },
  "language_info": {
   "codemirror_mode": {
    "name": "ipython",
    "version": 3
   },
   "file_extension": ".py",
   "mimetype": "text/x-python",
   "name": "python",
   "nbconvert_exporter": "python",
   "pygments_lexer": "ipython3",
   "version": "3.7.3"
  },
  "orig_nbformat": 4
 },
 "nbformat": 4,
 "nbformat_minor": 2
}
