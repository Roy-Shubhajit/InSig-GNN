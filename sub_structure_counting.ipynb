{
 "cells": [
  {
   "attachments": {},
   "cell_type": "markdown",
   "metadata": {},
   "source": [
    "# Import Libraries"
   ]
  },
  {
   "cell_type": "code",
   "execution_count": 135,
   "metadata": {},
   "outputs": [],
   "source": [
    "import pandas as pd\n",
    "import numpy as np\n",
    "import matplotlib.pyplot as plt\n",
    "import seaborn as sns\n",
    "import os\n",
    "import warnings\n",
    "from torch_geometric.data import Data, InMemoryDataset, download_url, Batch\n",
    "import torch_geometric.transforms as T\n",
    "from dgl.data.utils import Subset, load_graphs\n",
    "from torch_geometric.utils import k_hop_subgraph\n",
    "import torch\n",
    "import torch_geometric\n",
    "import pdb\n",
    "#from torch_geometric.data import Data, DataLoader\n",
    "import torch.nn.functional as F\n",
    "from torch.nn import Linear, Sequential, BatchNorm1d, ReLU, Dropout, ELU, GELU\n",
    "from torch_geometric.nn import GINConv, GINEConv, WLConv, GATv2Conv\n",
    "import torch.optim as optim\n",
    "from torch_geometric.nn import global_mean_pool, global_add_pool, global_max_pool\n",
    "warnings.filterwarnings('ignore')\n",
    "from tqdm import tqdm\n",
    "import torch.utils.data\n",
    "from torch.utils.data.dataloader import default_collate\n",
    "from torch_geometric.utils import degree\n",
    "from torch_geometric.data import Data\n",
    "import collections.abc as container_abcs\n",
    "from scipy.special import comb"
   ]
  },
  {
   "attachments": {},
   "cell_type": "markdown",
   "metadata": {},
   "source": [
    "# Dataset Creation"
   ]
  },
  {
   "cell_type": "code",
   "execution_count": 136,
   "metadata": {},
   "outputs": [],
   "source": [
    "class Dataset_1_orig(InMemoryDataset):\n",
    "    def __init__(self, root, transform=None, pre_transform=None):\n",
    "        super(Dataset_1_orig, self).__init__(root, transform, pre_transform)\n",
    "        self.data, self.slices = torch.load(self.processed_paths[0])\n",
    "\n",
    "    @property\n",
    "    def raw_file_names(self):\n",
    "        return []\n",
    "\n",
    "    @property\n",
    "    def processed_file_names(self):\n",
    "        return ['dataset1_orig.pt']\n",
    "\n",
    "    def download(self):\n",
    "        pass\n",
    "\n",
    "    def count_2star(self, data):\n",
    "        egde_index, num_nodes = data.edge_index, data.num_nodes\n",
    "        k = torch.tensor([], dtype=torch.long)\n",
    "        for ind in range(num_nodes):\n",
    "            nodes_, edge_index_, edge_mask_, z_ = k_hop_subgraph(\n",
    "            ind, 1, egde_index, False, num_nodes)\n",
    "            edge_index_ = edge_index_.T\n",
    "            mask = (edge_index_ == ind).all(dim=1)\n",
    "            edge_index_ = edge_index_[mask].T\n",
    "            k = torch.cat((k,torch.tensor([comb(nodes_.shape[0]-1,2, exact=True)])), dim=0)\n",
    "        return torch.sum(k)\n",
    "\n",
    "    def count_chordal(self, data):\n",
    "        edge_index, num_nodes = data.edge_index, data.num_nodes\n",
    "        total_edge_index = torch.tensor([], dtype=torch.long)\n",
    "        l = torch.tensor([], dtype=torch.long)\n",
    "        for ind in range(num_nodes):\n",
    "            nodes_, edge_index_, edge_mask_, z_ = k_hop_subgraph(\n",
    "            ind, 1, edge_index, False, num_nodes)\n",
    "            edge_index_ = edge_index_.T\n",
    "            mask = (edge_index_ != ind).all(dim=1)\n",
    "            edge_index_ = edge_index_[mask].T\n",
    "            total_edge_index = torch.cat((total_edge_index, edge_index_.T), dim=0)\n",
    "            nodes_ = nodes_[nodes_ != ind]\n",
    "            deg = degree(edge_index_[0], num_nodes)\n",
    "            ll = sum([comb(i, 2, exact=True) for i in  deg[deg > 1]])\n",
    "            l = torch.cat((l, torch.tensor([ll])), dim=0)\n",
    "        return torch.sum(l)//2\n",
    "    \n",
    "    def countC4(self, data):\n",
    "        edge_index, num_nodes = data.edge_index, data.num_nodes\n",
    "        l = torch.tensor([], dtype=torch.long)\n",
    "        for ind in range(num_nodes):\n",
    "            node_dict = {}\n",
    "            nodes_, edge_index_, edge_mask_, z_ = k_hop_subgraph(\n",
    "            ind, 2, edge_index, False, num_nodes)\n",
    "            edge_index_ = edge_index_.T\n",
    "            nodes_ = nodes_[nodes_ != ind]\n",
    "            edge_list = edge_index_.tolist()\n",
    "            node_dict = {n.item(): 1 if [ind, n] in edge_list or [n, ind] in edge_list else 0 for n in nodes_}\n",
    "            mask = (edge_index_ != ind).all(dim=1)\n",
    "            edge_index_ = edge_index_[mask].T\n",
    "            ll = 0\n",
    "            edge_list = edge_index_.T.tolist()\n",
    "\n",
    "            for n in node_dict:\n",
    "                nei = sum([1 for m in node_dict if [n, m] in edge_list and [m, n] in edge_list and node_dict[m] == 1])\n",
    "                if nei >= 2:\n",
    "                    ll += comb(nei, 2, exact=True)\n",
    "                    \n",
    "            l = torch.cat((l, torch.tensor([ll])), dim=0)\n",
    "       \n",
    "        \n",
    "        return torch.ceil(torch.sum(l)/4)\n",
    "    \n",
    "    def from_dgl(self, g, star, tri, tail_tri, attr_tri, chord):\n",
    "        import dgl\n",
    "\n",
    "        from torch_geometric.data import Data, HeteroData\n",
    "\n",
    "        if not isinstance(g, dgl.DGLGraph):\n",
    "            raise ValueError(f\"Invalid data type (got '{type(g)}')\")\n",
    "\n",
    "       \n",
    "        data = Data()\n",
    "        data.edge_index = torch.stack(g.edges(), dim=0)\n",
    "\n",
    "        for attr, value in g.ndata.items():\n",
    "            data[attr] = value\n",
    "        for attr, value in g.edata.items():\n",
    "            data[attr] = value\n",
    "\n",
    "        data.C4 = self.countC4(data)\n",
    "        data.star = star.item()\n",
    "        data.triangle = tri.item()\n",
    "        data.tailed_triangle = tail_tri.item()\n",
    "        data.attributed_triangle = attr_tri.item()\n",
    "        data.chordal_cycle = self.count_chordal(data)\n",
    "        data.star_2 = self.count_2star(data)\n",
    "        return data\n",
    "\n",
    "    def process(self):\n",
    "        glist, all_labels = load_graphs(\"/hdfs1/Data/Shubhajit/WL_Substructure_Counting/data/dataset1.bin\")\n",
    "        data_list = []\n",
    "        for i in zip(glist, all_labels[\"star\"], all_labels[\"triangle\"], all_labels[\"tailed_triangle\"], all_labels[\"attributed_triangle\"], all_labels[\"chordal_cycle\"]):\n",
    "            data = self.from_dgl(i[0], i[1], i[2], i[3], i[4], i[5])\n",
    "            data_list.append(data)\n",
    "\n",
    "        if self.pre_transform is not None:\n",
    "            data_list = [self.pre_transform(data) for data in data_list]\n",
    "\n",
    "        data, slices = self.collate(data_list)\n",
    "        torch.save((data, slices), self.processed_paths[0])\n",
    "\n",
    "class Dataset_2_orig(InMemoryDataset):\n",
    "    def __init__(self, root, transform=None, pre_transform=None):\n",
    "        super(Dataset_2_orig, self).__init__(root, transform, pre_transform)\n",
    "        self.data, self.slices = torch.load(self.processed_paths[0])\n",
    "\n",
    "    @property\n",
    "    def raw_file_names(self):\n",
    "        return []\n",
    "\n",
    "    @property\n",
    "    def processed_file_names(self):\n",
    "        return ['dataset2_orig.pt']\n",
    "\n",
    "    def download(self):\n",
    "        pass\n",
    "\n",
    "    def count_2star(self, data):\n",
    "        egde_index, num_nodes = data.edge_index, data.num_nodes\n",
    "        k = torch.tensor([], dtype=torch.long)\n",
    "        for ind in range(num_nodes):\n",
    "            nodes_, edge_index_, edge_mask_, z_ = k_hop_subgraph(\n",
    "            ind, 1, egde_index, False, num_nodes)\n",
    "            edge_index_ = edge_index_.T\n",
    "            mask = (edge_index_ == ind).all(dim=1)\n",
    "            edge_index_ = edge_index_[mask].T\n",
    "            k = torch.cat((k,torch.tensor([comb(nodes_.shape[0]-1,2, exact=True)])), dim=0)\n",
    "        return torch.sum(k)\n",
    "\n",
    "    def count_chordal(self, data):\n",
    "        edge_index, num_nodes = data.edge_index, data.num_nodes\n",
    "        total_edge_index = torch.tensor([], dtype=torch.long)\n",
    "        l = torch.tensor([], dtype=torch.long)\n",
    "        for ind in range(num_nodes):\n",
    "            nodes_, edge_index_, edge_mask_, z_ = k_hop_subgraph(\n",
    "            ind, 1, edge_index, False, num_nodes)\n",
    "            edge_index_ = edge_index_.T\n",
    "            mask = (edge_index_ != ind).all(dim=1)\n",
    "            edge_index_ = edge_index_[mask].T\n",
    "            total_edge_index = torch.cat((total_edge_index, edge_index_.T), dim=0)\n",
    "            nodes_ = nodes_[nodes_ != ind]\n",
    "            deg = degree(edge_index_[0], num_nodes)\n",
    "            ll = sum([comb(i, 2, exact=True) for i in  deg[deg > 1]])\n",
    "            l = torch.cat((l, torch.tensor([ll])), dim=0)\n",
    "        return torch.sum(l)//2\n",
    "\n",
    "    def countC4(self, data):\n",
    "        edge_index, num_nodes = data.edge_index, data.num_nodes\n",
    "        l = torch.tensor([], dtype=torch.long)\n",
    "        for ind in range(num_nodes):\n",
    "            node_dict = {}\n",
    "            nodes_, edge_index_, edge_mask_, z_ = k_hop_subgraph(\n",
    "            ind, 2, edge_index, False, num_nodes)\n",
    "            edge_index_ = edge_index_.T\n",
    "            nodes_ = nodes_[nodes_ != ind]\n",
    "            edge_list = edge_index_.tolist()\n",
    "            node_dict = {n.item(): 1 if [ind, n] in edge_list or [n, ind] in edge_list else 0 for n in nodes_}\n",
    "            mask = (edge_index_ != ind).all(dim=1)\n",
    "            edge_index_ = edge_index_[mask].T\n",
    "            ll = 0\n",
    "            edge_list = edge_index_.T.tolist()\n",
    "\n",
    "            for n in node_dict:\n",
    "                nei = sum([1 for m in node_dict if [n, m] in edge_list and [m, n] in edge_list and node_dict[m] == 1])\n",
    "                if nei >= 2:\n",
    "                    ll += comb(nei, 2, exact=True)\n",
    "                    \n",
    "            l = torch.cat((l, torch.tensor([ll])), dim=0)\n",
    "       \n",
    "        \n",
    "        return torch.ceil(torch.sum(l)/4)\n",
    "\n",
    "    def from_dgl(self, g, star, tri, tail_tri, attr_tri, chord):\n",
    "        import dgl\n",
    "\n",
    "        from torch_geometric.data import Data, HeteroData\n",
    "\n",
    "        if not isinstance(g, dgl.DGLGraph):\n",
    "            raise ValueError(f\"Invalid data type (got '{type(g)}')\")\n",
    "\n",
    "        \n",
    "        data = Data()\n",
    "        data.edge_index = torch.stack(g.edges(), dim=0)\n",
    "\n",
    "        for attr, value in g.ndata.items():\n",
    "            data[attr] = value\n",
    "        for attr, value in g.edata.items():\n",
    "            data[attr] = value\n",
    "\n",
    "        data.C4 = self.countC4(data)\n",
    "        data.star = star.item()\n",
    "        data.triangle = tri.item()\n",
    "        data.tailed_triangle = tail_tri.item()\n",
    "        data.attributed_triangle = attr_tri.item()\n",
    "        data.chordal_cycle = self.count_chordal(data)\n",
    "        data.star_2 = self.count_2star(data)\n",
    "\n",
    "        return data\n",
    "\n",
    "    def process(self):\n",
    "        glist, all_labels = load_graphs(\"/hdfs1/Data/Shubhajit/WL_Substructure_Counting/data/dataset2.bin\")\n",
    "        data_list = []\n",
    "        for i in zip(glist, all_labels[\"star\"], all_labels[\"triangle\"], all_labels[\"tailed_triangle\"], all_labels[\"attributed_triangle\"], all_labels[\"chordal_cycle\"]):\n",
    "            data = self.from_dgl(i[0], i[1], i[2], i[3], i[4], i[5])\n",
    "            data_list.append(data)\n",
    "\n",
    "        if self.pre_transform is not None:\n",
    "            data_list = [self.pre_transform(data) for data in data_list]\n",
    "\n",
    "        data, slices = self.collate(data_list)\n",
    "        torch.save((data, slices), self.processed_paths[0])"
   ]
  },
  {
   "attachments": {},
   "cell_type": "markdown",
   "metadata": {},
   "source": [
    "# Helper"
   ]
  },
  {
   "cell_type": "code",
   "execution_count": 137,
   "metadata": {},
   "outputs": [],
   "source": [
    "class collater():\n",
    "    def __init__(self, task):\n",
    "        self.task = task\n",
    "        pass\n",
    "\n",
    "    def create_subgraphs(self, data):\n",
    "\n",
    "        edge_index, num_nodes = data.edge_index, data.num_nodes\n",
    "        \n",
    "        num_edges = 0\n",
    "        subgraphs = {}\n",
    "        total_edge_index = torch.tensor([], dtype=torch.long)\n",
    "        l = torch.tensor([], dtype=torch.long)\n",
    "        k = torch.tensor([], dtype=torch.long)\n",
    "        for ind in range(num_nodes):\n",
    "            if self.task == \"triangle\":\n",
    "                nodes_, edge_index_, edge_mask_, z_ = k_hop_subgraph(\n",
    "                ind, 1, edge_index, False, num_nodes)\n",
    "                edge_attr_ = None\n",
    "                edge_index_ = edge_index_.T\n",
    "                mask = (edge_index_ != ind).all(dim=1)\n",
    "                edge_index_ = edge_index_[mask].T\n",
    "                total_edge_index = torch.cat((total_edge_index, edge_index_.T), dim=0)\n",
    "                data_ = Data(edge_index=edge_index_, z=z_)\n",
    "                l = torch.cat((l,torch.tensor([edge_index_.shape[1]//2])), dim=0)\n",
    "                num_edges += edge_index_.shape[1]\n",
    "                \n",
    "            elif self.task == \"3star\":\n",
    "                nodes_, edge_index_, edge_mask_, z_ = k_hop_subgraph(\n",
    "                ind, 1, edge_index, False, num_nodes)\n",
    "                edge_attr_ = None\n",
    "                edge_index_ = edge_index_.T\n",
    "\n",
    "                mask = (edge_index_ == ind).all(dim=1)\n",
    "                edge_index_ = edge_index_[mask].T\n",
    "                total_edge_index = torch.cat((total_edge_index, edge_index_.T), dim=0)\n",
    "                data_ = Data(edge_index=edge_index_, z=z_)\n",
    "                l = torch.cat((l, torch.tensor([nodes_.shape[0]-1])), dim=0)\n",
    "                k = torch.cat((k,torch.tensor([comb(nodes_.shape[0]-1,3, exact=True)])), dim=0)\n",
    "            \n",
    "            elif self.task == \"C4\":\n",
    "                node_dict = {}\n",
    "                nodes_, edge_index_, edge_mask_, z_ = k_hop_subgraph(\n",
    "                ind, 2, edge_index, False, num_nodes)\n",
    "                edge_index_ = edge_index_.T\n",
    "                nodes_ = nodes_[nodes_ != ind]\n",
    "                edge_list = edge_index_.tolist()\n",
    "                node_dict = {n.item(): 1 if [ind, n] in edge_list or [n, ind] in edge_list else 0 for n in nodes_}\n",
    "                mask = (edge_index_ != ind).all(dim=1)\n",
    "                edge_index_ = edge_index_[mask].T\n",
    "                total_edge_index = torch.cat((total_edge_index, edge_index_.T), dim=0)\n",
    "                x = torch.ones([num_nodes, 1]).to(edge_index.device)\n",
    "                for n in node_dict:\n",
    "                    if node_dict[n] == 0:\n",
    "                        x[n] = torch.tensor([0])\n",
    "                    else:\n",
    "                        x[n] = torch.tensor([1])\n",
    "                \n",
    "                data_ = Data(edge_index=edge_index_, z=z_)\n",
    "                ll = 0\n",
    "                edge_list = edge_index_.T.tolist()\n",
    "                total_nei = 0\n",
    "                for n in node_dict:\n",
    "                    nei = sum([1 for m in node_dict if [n, m] in edge_list and [m, n] in edge_list and node_dict[m] == 1])\n",
    "                    if nei >= 2:\n",
    "                        total_nei = total_nei + nei\n",
    "                        ll += comb(nei, 2, exact=True)\n",
    "                        \n",
    "                l = torch.cat((l, torch.tensor([ll])), dim=0)\n",
    "                k = torch.cat((k, torch.tensor([ll])), dim=0)\n",
    "\n",
    "            elif self.task == \"chordal\":\n",
    "                nodes_, edge_index_, edge_mask_, z_ = k_hop_subgraph(\n",
    "                ind, 1, edge_index, False, num_nodes)\n",
    "                edge_attr_ = None\n",
    "                edge_index_ = edge_index_.T\n",
    "                mask = (edge_index_ != ind).all(dim=1)\n",
    "                edge_index_ = edge_index_[mask].T\n",
    "                total_edge_index = torch.cat((total_edge_index, edge_index_.T), dim=0)\n",
    "                data_ = Data(edge_index=edge_index_, z=z_)\n",
    "                nodes_ = nodes_[nodes_ != ind]\n",
    "                deg = degree(edge_index_[0], num_nodes)\n",
    "                ll = sum([comb(i, 2, exact=True) for i in deg[deg > 1]])\n",
    "                l = torch.cat((l, torch.tensor([ll])), dim=0)\n",
    "                k = torch.cat((k, torch.tensor([ll])), dim=0)\n",
    "\n",
    "            elif self.task == \"2star\":\n",
    "                nodes_, edge_index_, edge_mask_, z_ = k_hop_subgraph(\n",
    "                ind, 1, edge_index, False, num_nodes)\n",
    "                edge_index_ = edge_index_.T\n",
    "                mask = (edge_index_ == ind).all(dim=1)\n",
    "                edge_index_ = edge_index_[mask].T\n",
    "                total_edge_index = torch.cat((total_edge_index, edge_index_.T), dim=0)\n",
    "                data_ = Data(edge_index=edge_index_, z=z_)\n",
    "                k = torch.cat((k,torch.tensor([comb(nodes_.shape[0]-1,2, exact=True)])), dim=0)\n",
    "                l = torch.cat((l, torch.tensor([nodes_.shape[0]-1])), dim=0)\n",
    "            subgraphs[ind] = data_\n",
    "            \n",
    "        total_edge_index = torch.unique(total_edge_index, dim=0)\n",
    "\n",
    "        if self.task == \"triangle\":\n",
    "            new_data = Data(edge_index=total_edge_index.T)\n",
    "            new_data.ext_label_dataset = data.triangle\n",
    "            new_data.ext_label = torch.tensor([num_edges//6]) \n",
    "        elif self.task == \"3star\":\n",
    "            new_data = Data(edge_index=data.edge_index)\n",
    "            new_data.ext_label_dataset = data.star\n",
    "            new_data.ext_label = torch.sum(k)\n",
    "        elif self.task == \"C4\":\n",
    "            new_data = Data(edge_index=total_edge_index.T)\n",
    "            new_data.ext_label_dataset = data.C4\n",
    "            new_data.ext_label = torch.ceil(torch.sum(k)/4)\n",
    "        elif self.task == \"chordal\":\n",
    "            new_data = Data(edge_index=total_edge_index.T)\n",
    "            new_data.ext_label_dataset = data.chordal_cycle\n",
    "            new_data.ext_label = torch.sum(k)//2\n",
    "        elif self.task == \"2star\":\n",
    "            new_data = Data(edge_index=data.edge_index)\n",
    "            new_data.ext_label_dataset = data.star_2\n",
    "            new_data.ext_label = torch.sum(k)\n",
    "        return new_data, subgraphs, l\n",
    "\n",
    "\n",
    "    def __call__(self, data):\n",
    "        graphs = []\n",
    "        subgraphs = []\n",
    "        max_nodes = max([d.num_nodes for d in data])\n",
    "        labels = torch.zeros((len(data), max_nodes), dtype=torch.long)\n",
    "        for g in data:\n",
    "            G_, sub_G, internal_labels = self.create_subgraphs(g)\n",
    "            graphs.append(G_)\n",
    "            subgraphs.append(sub_G)\n",
    "            labels[len(graphs)-1, :g.num_nodes] = internal_labels\n",
    "\n",
    "        return [graphs, subgraphs, labels, max_nodes]"
   ]
  },
  {
   "attachments": {},
   "cell_type": "markdown",
   "metadata": {},
   "source": [
    "# Model"
   ]
  },
  {
   "cell_type": "code",
   "execution_count": 142,
   "metadata": {},
   "outputs": [],
   "source": [
    "class localGNN(torch.nn.Module):\n",
    "    def __init__(self, num_layers, hidden):\n",
    "        super(localGNN, self).__init__()\n",
    "        self.hidden = hidden\n",
    "        self.conv1 = GINConv(Sequential(Linear(1, hidden), GELU(), Linear(\n",
    "            hidden, hidden), GELU()), train_eps=False)\n",
    "        self.conv2 = GINConv(Sequential(Linear(hidden, hidden), GELU(), Linear(\n",
    "            hidden, hidden), GELU()), train_eps=False)\n",
    "        self.fc0 = Linear(hidden, hidden)\n",
    "        self.fc1 = Linear(hidden, 1)\n",
    "\n",
    "    def forward(self, data_list, subgraph_dict_list, max_nodes):\n",
    "        out_dims = (len(data_list), max_nodes, self.hidden)\n",
    "        int_emb = torch.zeros(out_dims).to(data_list[0].edge_index.device)\n",
    "        num = 0\n",
    "        new_data_list = []\n",
    "        for graph, sub_graphs in zip(data_list, subgraph_dict_list):\n",
    "            emb = torch.tensor([]).to(data_list[0].edge_index.device)\n",
    "            for key in sub_graphs.keys():\n",
    "                subgraph = sub_graphs[key]\n",
    "                edge_index = subgraph.edge_index\n",
    "                subgraph.x = torch.ones(\n",
    "                    [subgraph.num_nodes, 1]).to(edge_index.device)\n",
    "                x = self.conv1(subgraph.x, edge_index)\n",
    "                x = self.conv2(x, edge_index)\n",
    "                x = self.fc0(x)\n",
    "                x = F.gelu(x)\n",
    "                if len(x)>0:\n",
    "                    batch = torch.zeros(len(x), dtype=torch.long).to(data_list[0].edge_index.device)\n",
    "                    x = global_add_pool(x, batch, size=1)\n",
    "                else:\n",
    "                    x = torch.zeros(1, self.hidden).to(data_list[0].edge_index.device)\n",
    "                emb = torch.cat((emb, x), dim=0)\n",
    "            int_emb[num, :emb.shape[0], :] = emb\n",
    "            num += 1\n",
    "            graph.x = emb  \n",
    "            new_data_list.append(graph) \n",
    "        res = self.fc1(int_emb)\n",
    "        batch = Batch.from_data_list(new_data_list)\n",
    "        res = torch.squeeze(res, dim=-1)\n",
    "        return batch, res\n"
   ]
  },
  {
   "cell_type": "code",
   "execution_count": 143,
   "metadata": {},
   "outputs": [],
   "source": [
    "class globalGNN(torch.nn.Module):\n",
    "    def __init__(self, num_layers, hidden):\n",
    "        super(globalGNN, self).__init__()\n",
    "        self.hidden = hidden\n",
    "        self.conv3 = GINConv(Sequential(Linear(hidden, hidden), GELU(), Linear(\n",
    "            hidden, hidden), GELU()), train_eps=False)\n",
    "        self.conv4 = GINConv(Sequential(Linear(hidden, hidden), GELU(), Linear(\n",
    "            hidden, hidden), GELU()), train_eps=False)\n",
    "        self.fc2 = Linear(hidden, 1)\n",
    "\n",
    "    def forward(self, data):\n",
    "        \n",
    "        \n",
    "        x = self.conv3(data.x, data.edge_index)\n",
    "        x = self.conv4(x, data.edge_index)\n",
    "        #x = F.elu(x)\n",
    "        x = self.fc2(x)\n",
    "        x = global_add_pool(x, data.batch)\n",
    "        return x\n"
   ]
  },
  {
   "attachments": {},
   "cell_type": "markdown",
   "metadata": {},
   "source": [
    "# Data Processing and Split"
   ]
  },
  {
   "cell_type": "code",
   "execution_count": 140,
   "metadata": {},
   "outputs": [
    {
     "name": "stdout",
     "output_type": "stream",
     "text": [
      "Variance:  tensor(22.4916)\n"
     ]
    }
   ],
   "source": [
    "dataset2_orig = Dataset_2_orig(root=\"/hdfs1/Data/Shubhajit/Sub-Structure-GNN/data/Dataset2\", pre_transform=None)\n",
    "train_dataset_G = dataset2_orig[:int(0.8*len(dataset2_orig))]\n",
    "val_dataset_G = dataset2_orig[int(0.8*len(dataset2_orig)):int(0.9*len(dataset2_orig))]\n",
    "test_dataset_G = dataset2_orig[int(0.9*len(dataset2_orig)):]\n",
    "task = \"chordal\"\n",
    "if task == \"triangle\":\n",
    "    variance2_orig = torch.std(dataset2_orig.data.triangle.to(torch.float32))**2\n",
    "elif task == \"3star\":\n",
    "    variance2_orig = torch.std(dataset2_orig.data.star.to(torch.float32))**2\n",
    "elif task == \"C4\":\n",
    "    variance2_orig = torch.std(dataset2_orig.data.C4.to(torch.float32))**2\n",
    "elif task == 'chordal':\n",
    "    variance2_orig = torch.std(dataset2_orig.data.chordal_cycle.to(torch.float32))**2\n",
    "elif task == '2star':\n",
    "    variance2_orig = torch.std(dataset2_orig.data.star_2.to(torch.float32))**2\n",
    "    \n",
    "print(\"Variance: \", variance2_orig)\n",
    "\n",
    "from torch.utils.data import DataLoader\n",
    "\n",
    "collater_fn = collater(task)\n",
    "train_loader = DataLoader(train_dataset_G, batch_size=1, shuffle=True, drop_last=True, collate_fn=collater_fn)\n",
    "val_loader = DataLoader(val_dataset_G, batch_size=1, shuffle=False, drop_last=True, collate_fn=collater_fn)\n",
    "test_loader = DataLoader(test_dataset_G, batch_size=1, shuffle=False, drop_last=True, collate_fn=collater_fn)"
   ]
  },
  {
   "attachments": {},
   "cell_type": "markdown",
   "metadata": {},
   "source": [
    "# Create Models"
   ]
  },
  {
   "cell_type": "code",
   "execution_count": 144,
   "metadata": {},
   "outputs": [],
   "source": [
    "device = torch.device('cuda' if torch.cuda.is_available() else 'cpu')\n",
    "Int_GNN = localGNN(1, 512).to(device)\n",
    "Ext_GNN = globalGNN(1, 512).to(device)\n",
    "Int_Opt = torch.optim.Adam(Int_GNN.parameters(), lr=0.001)\n",
    "Ext_Opt = torch.optim.Adam(Ext_GNN.parameters(), lr=0.001)\n",
    "loss_fn1 = torch.nn.L1Loss(reduction='mean')\n",
    "loss_fn2 = torch.nn.L1Loss(reduction='mean')"
   ]
  },
  {
   "cell_type": "code",
   "execution_count": 145,
   "metadata": {},
   "outputs": [
    {
     "name": "stdout",
     "output_type": "stream",
     "text": [
      "Number of parameters in Int_GNN:  1052161\n",
      "Number of parameters in Ext_GNN:  1051137\n"
     ]
    }
   ],
   "source": [
    "#number of parameters\n",
    "def count_parameters(model):\n",
    "    return sum(p.numel() for p in model.parameters() if p.requires_grad)\n",
    "\n",
    "print(\"Number of parameters in Int_GNN: \", count_parameters(Int_GNN))\n",
    "print(\"Number of parameters in Ext_GNN: \", count_parameters(Ext_GNN))"
   ]
  },
  {
   "cell_type": "code",
   "execution_count": 146,
   "metadata": {},
   "outputs": [
    {
     "name": "stdout",
     "output_type": "stream",
     "text": [
      "Memory taken by Int_GNN:  4.208644 MB\n",
      "Memory taken by Ext_GNN:  4.204548 MB\n"
     ]
    }
   ],
   "source": [
    "#memory taken by the model in MB\n",
    "def memory(model):\n",
    "    return sum(p.numel() for p in model.parameters() if p.requires_grad)*4/1000000\n",
    "\n",
    "print(\"Memory taken by Int_GNN: \", memory(Int_GNN), \"MB\")\n",
    "print(\"Memory taken by Ext_GNN: \", memory(Ext_GNN), \"MB\")"
   ]
  },
  {
   "cell_type": "code",
   "execution_count": 147,
   "metadata": {},
   "outputs": [],
   "source": [
    "def train(int_model, ext_model, loader, int_opt, ext_opt):\n",
    "    step = 0\n",
    "    total_loss_int = 0\n",
    "    total_loss_ext = 0\n",
    "    for batch in tqdm(loader):\n",
    "        graphs = batch[0]\n",
    "        subgraphs = batch[1]\n",
    "        internal_labels = batch[2].to(device)\n",
    "        max_nodes = batch[3]\n",
    "        \n",
    "        for g in range(len(graphs)):\n",
    "            graphs[g] = graphs[g].to(device)\n",
    "            for key in subgraphs[g].keys():\n",
    "                subgraphs[g][key] = subgraphs[g][key].to(device)\n",
    "\n",
    "        int_model.train()\n",
    "        int_opt.zero_grad()\n",
    "        batch_graph, int_out = int_model(graphs, subgraphs, max_nodes)\n",
    "        loss1 = loss_fn1(int_out, internal_labels)\n",
    "        loss1.backward()\n",
    "        int_opt.step()\n",
    "        #ext_model = param_transfer(int_model, ext_model)\n",
    "        int_model.eval()\n",
    "        batch_graph, int_out = int_model(graphs, subgraphs, max_nodes)\n",
    "        ext_model.train()\n",
    "        ext_opt.zero_grad()\n",
    "        ext_emb = ext_model(batch_graph)\n",
    "        loss2 = loss_fn2(ext_emb, batch_graph.ext_label)\n",
    "        loss2.backward()\n",
    "        ext_opt.step()\n",
    "        total_loss_int += loss1.item()\n",
    "        total_loss_ext += loss2.item()\n",
    "        step += 1\n",
    "        if step % 500 == 0:\n",
    "            print(\"Step: {}, Int Loss: {}, Ext Loss: {}\".format(\n",
    "                step, total_loss_int/step, total_loss_ext/step))\n",
    "        #int_model = param_transfer(ext_model, int_model)\n",
    "    return total_loss_ext / step\n",
    "\n",
    "def eval(int_model, ext_model, loader):\n",
    "    int_model.eval()\n",
    "    ext_model.eval()\n",
    "    step = 0\n",
    "    total_loss = 0\n",
    "    for batch in tqdm(loader):\n",
    "        graphs = batch[0]\n",
    "        subgraphs = batch[1]\n",
    "        internal_labels = batch[2].to(device)\n",
    "        max_nodes = batch[3]\n",
    "        \n",
    "        for g in range(len(graphs)):\n",
    "            graphs[g] = graphs[g].to(device)\n",
    "            for key in subgraphs[g].keys():\n",
    "                subgraphs[g][key] = subgraphs[g][key].to(device)\n",
    "        batch_graph, int_out = int_model(graphs, subgraphs, max_nodes)\n",
    "        ext_emb = ext_model(batch_graph)\n",
    "        loss = loss_fn2(ext_emb, batch_graph.ext_label)\n",
    "        total_loss += loss.item()\n",
    "        step += 1\n",
    "    return total_loss / step"
   ]
  },
  {
   "attachments": {},
   "cell_type": "markdown",
   "metadata": {},
   "source": [
    "# Run Model"
   ]
  },
  {
   "cell_type": "code",
   "execution_count": 148,
   "metadata": {},
   "outputs": [
    {
     "name": "stderr",
     "output_type": "stream",
     "text": [
      "100%|██████████| 4000/4000 [07:57<00:00,  8.37it/s]\n"
     ]
    },
    {
     "name": "stdout",
     "output_type": "stream",
     "text": [
      "Step: 4000, Int Loss: 0.01222266611751985, Ext Loss: 0.3382489355424349\n",
      "Train loss : 0.015038879588246346\n",
      "Evaluating...\n"
     ]
    },
    {
     "name": "stderr",
     "output_type": "stream",
     "text": [
      "100%|██████████| 500/500 [00:28<00:00, 17.42it/s]\n"
     ]
    },
    {
     "name": "stdout",
     "output_type": "stream",
     "text": [
      "Valid loss : 0.010208112187683582\n"
     ]
    },
    {
     "name": "stderr",
     "output_type": "stream",
     "text": [
      "100%|██████████| 500/500 [00:28<00:00, 17.59it/s]\n"
     ]
    },
    {
     "name": "stdout",
     "output_type": "stream",
     "text": [
      "Test loss : 0.012035088613629341\n",
      "=====Epoch 52\n",
      "Training...\n"
     ]
    },
    {
     "name": "stderr",
     "output_type": "stream",
     "text": [
      " 13%|█▎        | 501/4000 [01:00<07:01,  8.31it/s]"
     ]
    },
    {
     "name": "stdout",
     "output_type": "stream",
     "text": [
      "Step: 500, Int Loss: 0.014271438396681333, Ext Loss: 0.2525962111675617\n"
     ]
    },
    {
     "name": "stderr",
     "output_type": "stream",
     "text": [
      " 25%|██▌       | 1001/4000 [02:00<05:56,  8.42it/s]"
     ]
    },
    {
     "name": "stdout",
     "output_type": "stream",
     "text": [
      "Step: 1000, Int Loss: 0.013723538024130903, Ext Loss: 0.3061712824403003\n"
     ]
    },
    {
     "name": "stderr",
     "output_type": "stream",
     "text": [
      " 38%|███▊      | 1502/4000 [03:01<04:47,  8.69it/s]"
     ]
    },
    {
     "name": "stdout",
     "output_type": "stream",
     "text": [
      "Step: 1500, Int Loss: 0.011774510723031805, Ext Loss: 0.3040047884859329\n"
     ]
    },
    {
     "name": "stderr",
     "output_type": "stream",
     "text": [
      " 50%|█████     | 2001/4000 [04:00<03:47,  8.78it/s]"
     ]
    },
    {
     "name": "stdout",
     "output_type": "stream",
     "text": [
      "Step: 2000, Int Loss: 0.011841674066748681, Ext Loss: 0.3073742024163839\n"
     ]
    },
    {
     "name": "stderr",
     "output_type": "stream",
     "text": [
      " 63%|██████▎   | 2501/4000 [05:01<02:50,  8.78it/s]"
     ]
    },
    {
     "name": "stdout",
     "output_type": "stream",
     "text": [
      "Step: 2500, Int Loss: 0.014036193265973407, Ext Loss: 0.36259901083237567\n"
     ]
    },
    {
     "name": "stderr",
     "output_type": "stream",
     "text": [
      " 70%|██████▉   | 2788/4000 [05:36<02:35,  7.82it/s]"
     ]
    }
   ],
   "source": [
    "train_curve = []\n",
    "valid_curve = []\n",
    "test_curve = []\n",
    "best_val_loss = 1000\n",
    "best_test_loss = 1000\n",
    "for epoch in range(1, 101):\n",
    "    print(\"=====Epoch {}\".format(epoch))\n",
    "    print('Training...')\n",
    "    train_loss = train(Int_GNN, Ext_GNN, train_loader, Int_Opt, Ext_Opt)\n",
    "    print('Train loss : {}'.format(train_loss/variance2_orig))\n",
    "\n",
    "    print('Evaluating...')\n",
    "    valid_loss = eval(Int_GNN, Ext_GNN, val_loader)\n",
    "    print('Valid loss : {}'.format(valid_loss/variance2_orig))\n",
    "    test_loss = eval(Int_GNN, Ext_GNN, test_loader)\n",
    "    print('Test loss : {}'.format(test_loss/variance2_orig))\n",
    "    if valid_loss < best_val_loss:\n",
    "        best_val_loss = valid_loss\n",
    "        best_test_loss = test_loss\n",
    "        print(\"Best Model!\")\n",
    "        print(\"Best valid loss : {}\".format(best_val_loss/variance2_orig))\n",
    "        print(\"Best test loss : {}\".format(best_test_loss/variance2_orig))\n",
    "    train_curve.append(train_loss/variance2_orig)\n",
    "    valid_curve.append(valid_loss/variance2_orig)\n",
    "    test_curve.append(test_loss/variance2_orig)"
   ]
  },
  {
   "cell_type": "code",
   "execution_count": 76,
   "metadata": {},
   "outputs": [
    {
     "name": "stdout",
     "output_type": "stream",
     "text": [
      "Best valid loss : 0.0030952796805649996\n",
      "Best test loss : 0.0033464173320680857\n"
     ]
    }
   ],
   "source": [
    "print(\"Best valid loss : {}\".format(best_val_loss/variance2_orig))\n",
    "print(\"Best test loss : {}\".format(best_test_loss/variance2_orig))"
   ]
  },
  {
   "attachments": {},
   "cell_type": "markdown",
   "metadata": {},
   "source": [
    "# Plots"
   ]
  },
  {
   "cell_type": "code",
   "execution_count": 79,
   "metadata": {},
   "outputs": [
    {
     "data": {
      "image/png": "[encoded data removed]",
      "text/plain": [
       "<Figure size 640x480 with 1 Axes>"
      ]
     },
     "metadata": {},
     "output_type": "display_data"
    }
   ],
   "source": [
    "plt.plot(train_curve, label='Train')\n",
    "plt.plot(valid_curve, label='Validation')   \n",
    "plt.plot(test_curve, label='Test')\n",
    "plt.legend()\n",
    "plt.title('Loss curve for Local-Global GIN - Triangle')\n",
    "plt.xlabel('Epochs')\n",
    "plt.ylabel('Loss')\n",
    "plt.show()"
   ]
  },
  {
   "cell_type": "code",
   "execution_count": null,
   "metadata": {},
   "outputs": [],
   "source": [
    "plt.plot(train_curve, label='Train')\n",
    "plt.plot(valid_curve, label='Validation')   \n",
    "plt.plot(test_curve, label='Test')\n",
    "plt.legend()\n",
    "plt.title('Loss curve for Local-Global GIN - Chordal')\n",
    "plt.xlabel('Epochs')\n",
    "plt.ylabel('Loss')\n",
    "plt.show()"
   ]
  }
 ],
 "metadata": {
  "kernelspec": {
   "display_name": "torch_pip",
   "language": "python",
   "name": "python3"
  },
  "language_info": {
   "codemirror_mode": {
    "name": "ipython",
    "version": 3
   },
   "file_extension": ".py",
   "mimetype": "text/x-python",
   "name": "python",
   "nbconvert_exporter": "python",
   "pygments_lexer": "ipython3",
   "version": "3.7.3"
  },
  "orig_nbformat": 4
 },
 "nbformat": 4,
 "nbformat_minor": 2
}
